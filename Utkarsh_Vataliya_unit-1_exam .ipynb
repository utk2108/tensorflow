{
 "cells": [
  {
   "cell_type": "markdown",
   "id": "827c33d1",
   "metadata": {},
   "source": [
    "## Utkarsh Vataliya "
   ]
  },
  {
   "cell_type": "code",
   "execution_count": 1,
   "id": "f526d0a8",
   "metadata": {},
   "outputs": [],
   "source": [
    "import pandas as pd\n",
    "import numpy as np \n",
    "import matplotlib.pyplot as plt \n",
    "import seaborn as sns\n",
    "import tensorflow as tf\n",
    "from tensorflow import keras\n",
    "from tensorflow.keras import layers\n",
    "from keras.models import Sequential\n",
    "from keras.layers import Dense\n",
    "from sklearn.preprocessing import StandardScaler\n",
    "from sklearn.model_selection import train_test_split"
   ]
  },
  {
   "cell_type": "code",
   "execution_count": 2,
   "id": "ff888e24",
   "metadata": {},
   "outputs": [],
   "source": [
    "df = pd.read_csv('train-data.csv')"
   ]
  },
  {
   "cell_type": "code",
   "execution_count": 3,
   "id": "6b9fc8fa",
   "metadata": {},
   "outputs": [
    {
     "data": {
      "text/html": [
       "<div>\n",
       "<style scoped>\n",
       "    .dataframe tbody tr th:only-of-type {\n",
       "        vertical-align: middle;\n",
       "    }\n",
       "\n",
       "    .dataframe tbody tr th {\n",
       "        vertical-align: top;\n",
       "    }\n",
       "\n",
       "    .dataframe thead th {\n",
       "        text-align: right;\n",
       "    }\n",
       "</style>\n",
       "<table border=\"1\" class=\"dataframe\">\n",
       "  <thead>\n",
       "    <tr style=\"text-align: right;\">\n",
       "      <th></th>\n",
       "      <th>Unnamed: 0</th>\n",
       "      <th>Name</th>\n",
       "      <th>Location</th>\n",
       "      <th>Year</th>\n",
       "      <th>Kilometers_Driven</th>\n",
       "      <th>Fuel_Type</th>\n",
       "      <th>Transmission</th>\n",
       "      <th>Owner_Type</th>\n",
       "      <th>Mileage</th>\n",
       "      <th>Engine</th>\n",
       "      <th>Power</th>\n",
       "      <th>Seats</th>\n",
       "      <th>New_Price</th>\n",
       "      <th>Price</th>\n",
       "    </tr>\n",
       "  </thead>\n",
       "  <tbody>\n",
       "    <tr>\n",
       "      <th>0</th>\n",
       "      <td>0</td>\n",
       "      <td>Maruti Wagon R LXI CNG</td>\n",
       "      <td>Mumbai</td>\n",
       "      <td>2010</td>\n",
       "      <td>72000</td>\n",
       "      <td>CNG</td>\n",
       "      <td>Manual</td>\n",
       "      <td>First</td>\n",
       "      <td>26.6 km/kg</td>\n",
       "      <td>998 CC</td>\n",
       "      <td>58.16 bhp</td>\n",
       "      <td>5.0</td>\n",
       "      <td>NaN</td>\n",
       "      <td>1.75</td>\n",
       "    </tr>\n",
       "    <tr>\n",
       "      <th>1</th>\n",
       "      <td>1</td>\n",
       "      <td>Hyundai Creta 1.6 CRDi SX Option</td>\n",
       "      <td>Pune</td>\n",
       "      <td>2015</td>\n",
       "      <td>41000</td>\n",
       "      <td>Diesel</td>\n",
       "      <td>Manual</td>\n",
       "      <td>First</td>\n",
       "      <td>19.67 kmpl</td>\n",
       "      <td>1582 CC</td>\n",
       "      <td>126.2 bhp</td>\n",
       "      <td>5.0</td>\n",
       "      <td>NaN</td>\n",
       "      <td>12.50</td>\n",
       "    </tr>\n",
       "    <tr>\n",
       "      <th>2</th>\n",
       "      <td>2</td>\n",
       "      <td>Honda Jazz V</td>\n",
       "      <td>Chennai</td>\n",
       "      <td>2011</td>\n",
       "      <td>46000</td>\n",
       "      <td>Petrol</td>\n",
       "      <td>Manual</td>\n",
       "      <td>First</td>\n",
       "      <td>18.2 kmpl</td>\n",
       "      <td>1199 CC</td>\n",
       "      <td>88.7 bhp</td>\n",
       "      <td>5.0</td>\n",
       "      <td>8.61 Lakh</td>\n",
       "      <td>4.50</td>\n",
       "    </tr>\n",
       "    <tr>\n",
       "      <th>3</th>\n",
       "      <td>3</td>\n",
       "      <td>Maruti Ertiga VDI</td>\n",
       "      <td>Chennai</td>\n",
       "      <td>2012</td>\n",
       "      <td>87000</td>\n",
       "      <td>Diesel</td>\n",
       "      <td>Manual</td>\n",
       "      <td>First</td>\n",
       "      <td>20.77 kmpl</td>\n",
       "      <td>1248 CC</td>\n",
       "      <td>88.76 bhp</td>\n",
       "      <td>7.0</td>\n",
       "      <td>NaN</td>\n",
       "      <td>6.00</td>\n",
       "    </tr>\n",
       "    <tr>\n",
       "      <th>4</th>\n",
       "      <td>4</td>\n",
       "      <td>Audi A4 New 2.0 TDI Multitronic</td>\n",
       "      <td>Coimbatore</td>\n",
       "      <td>2013</td>\n",
       "      <td>40670</td>\n",
       "      <td>Diesel</td>\n",
       "      <td>Automatic</td>\n",
       "      <td>Second</td>\n",
       "      <td>15.2 kmpl</td>\n",
       "      <td>1968 CC</td>\n",
       "      <td>140.8 bhp</td>\n",
       "      <td>5.0</td>\n",
       "      <td>NaN</td>\n",
       "      <td>17.74</td>\n",
       "    </tr>\n",
       "  </tbody>\n",
       "</table>\n",
       "</div>"
      ],
      "text/plain": [
       "   Unnamed: 0                              Name    Location  Year  \\\n",
       "0           0            Maruti Wagon R LXI CNG      Mumbai  2010   \n",
       "1           1  Hyundai Creta 1.6 CRDi SX Option        Pune  2015   \n",
       "2           2                      Honda Jazz V     Chennai  2011   \n",
       "3           3                 Maruti Ertiga VDI     Chennai  2012   \n",
       "4           4   Audi A4 New 2.0 TDI Multitronic  Coimbatore  2013   \n",
       "\n",
       "   Kilometers_Driven Fuel_Type Transmission Owner_Type     Mileage   Engine  \\\n",
       "0              72000       CNG       Manual      First  26.6 km/kg   998 CC   \n",
       "1              41000    Diesel       Manual      First  19.67 kmpl  1582 CC   \n",
       "2              46000    Petrol       Manual      First   18.2 kmpl  1199 CC   \n",
       "3              87000    Diesel       Manual      First  20.77 kmpl  1248 CC   \n",
       "4              40670    Diesel    Automatic     Second   15.2 kmpl  1968 CC   \n",
       "\n",
       "       Power  Seats  New_Price  Price  \n",
       "0  58.16 bhp    5.0        NaN   1.75  \n",
       "1  126.2 bhp    5.0        NaN  12.50  \n",
       "2   88.7 bhp    5.0  8.61 Lakh   4.50  \n",
       "3  88.76 bhp    7.0        NaN   6.00  \n",
       "4  140.8 bhp    5.0        NaN  17.74  "
      ]
     },
     "execution_count": 3,
     "metadata": {},
     "output_type": "execute_result"
    }
   ],
   "source": [
    "df.head()"
   ]
  },
  {
   "cell_type": "code",
   "execution_count": 4,
   "id": "7647b6c8",
   "metadata": {},
   "outputs": [
    {
     "data": {
      "text/plain": [
       "(6019, 14)"
      ]
     },
     "execution_count": 4,
     "metadata": {},
     "output_type": "execute_result"
    }
   ],
   "source": [
    "df.shape"
   ]
  },
  {
   "cell_type": "code",
   "execution_count": 5,
   "id": "7f00edf1",
   "metadata": {},
   "outputs": [],
   "source": [
    "df.drop(columns=['Unnamed: 0','New_Price','Name','Location'], axis=1 ,inplace=True)"
   ]
  },
  {
   "cell_type": "code",
   "execution_count": 6,
   "id": "793c4d8b",
   "metadata": {},
   "outputs": [],
   "source": [
    "indx = df[df['Power'] == 'null bhp'].index"
   ]
  },
  {
   "cell_type": "code",
   "execution_count": 7,
   "id": "99d57fd1",
   "metadata": {},
   "outputs": [
    {
     "data": {
      "text/plain": [
       "(107,)"
      ]
     },
     "execution_count": 7,
     "metadata": {},
     "output_type": "execute_result"
    }
   ],
   "source": [
    "indx.shape"
   ]
  },
  {
   "cell_type": "code",
   "execution_count": 8,
   "id": "56077d31",
   "metadata": {},
   "outputs": [],
   "source": [
    "df.drop(indx, axis=0, inplace=True)"
   ]
  },
  {
   "cell_type": "code",
   "execution_count": 9,
   "id": "5e698d27",
   "metadata": {},
   "outputs": [],
   "source": [
    "df['Mileage'] = df['Mileage'].str.split(' ').str[0]\n",
    "df['Engine'] = df['Engine'].str.split(' ').str[0]\n",
    "df['Power'] = df['Power'].str.split(' ').str[0]"
   ]
  },
  {
   "cell_type": "code",
   "execution_count": 10,
   "id": "c27c9f59",
   "metadata": {},
   "outputs": [],
   "source": [
    "df['Mileage'] = df['Mileage'].astype(float)\n",
    "df['Engine'] = df['Engine'].astype(float)\n",
    "df['Power'] = df['Power'].astype(float)"
   ]
  },
  {
   "cell_type": "code",
   "execution_count": 11,
   "id": "8fec49ed",
   "metadata": {},
   "outputs": [
    {
     "data": {
      "text/html": [
       "<div>\n",
       "<style scoped>\n",
       "    .dataframe tbody tr th:only-of-type {\n",
       "        vertical-align: middle;\n",
       "    }\n",
       "\n",
       "    .dataframe tbody tr th {\n",
       "        vertical-align: top;\n",
       "    }\n",
       "\n",
       "    .dataframe thead th {\n",
       "        text-align: right;\n",
       "    }\n",
       "</style>\n",
       "<table border=\"1\" class=\"dataframe\">\n",
       "  <thead>\n",
       "    <tr style=\"text-align: right;\">\n",
       "      <th></th>\n",
       "      <th>Year</th>\n",
       "      <th>Kilometers_Driven</th>\n",
       "      <th>Fuel_Type</th>\n",
       "      <th>Transmission</th>\n",
       "      <th>Owner_Type</th>\n",
       "      <th>Mileage</th>\n",
       "      <th>Engine</th>\n",
       "      <th>Power</th>\n",
       "      <th>Seats</th>\n",
       "      <th>Price</th>\n",
       "    </tr>\n",
       "  </thead>\n",
       "  <tbody>\n",
       "    <tr>\n",
       "      <th>0</th>\n",
       "      <td>2010</td>\n",
       "      <td>72000</td>\n",
       "      <td>CNG</td>\n",
       "      <td>Manual</td>\n",
       "      <td>First</td>\n",
       "      <td>26.60</td>\n",
       "      <td>998.0</td>\n",
       "      <td>58.16</td>\n",
       "      <td>5.0</td>\n",
       "      <td>1.75</td>\n",
       "    </tr>\n",
       "    <tr>\n",
       "      <th>1</th>\n",
       "      <td>2015</td>\n",
       "      <td>41000</td>\n",
       "      <td>Diesel</td>\n",
       "      <td>Manual</td>\n",
       "      <td>First</td>\n",
       "      <td>19.67</td>\n",
       "      <td>1582.0</td>\n",
       "      <td>126.20</td>\n",
       "      <td>5.0</td>\n",
       "      <td>12.50</td>\n",
       "    </tr>\n",
       "    <tr>\n",
       "      <th>2</th>\n",
       "      <td>2011</td>\n",
       "      <td>46000</td>\n",
       "      <td>Petrol</td>\n",
       "      <td>Manual</td>\n",
       "      <td>First</td>\n",
       "      <td>18.20</td>\n",
       "      <td>1199.0</td>\n",
       "      <td>88.70</td>\n",
       "      <td>5.0</td>\n",
       "      <td>4.50</td>\n",
       "    </tr>\n",
       "    <tr>\n",
       "      <th>3</th>\n",
       "      <td>2012</td>\n",
       "      <td>87000</td>\n",
       "      <td>Diesel</td>\n",
       "      <td>Manual</td>\n",
       "      <td>First</td>\n",
       "      <td>20.77</td>\n",
       "      <td>1248.0</td>\n",
       "      <td>88.76</td>\n",
       "      <td>7.0</td>\n",
       "      <td>6.00</td>\n",
       "    </tr>\n",
       "    <tr>\n",
       "      <th>4</th>\n",
       "      <td>2013</td>\n",
       "      <td>40670</td>\n",
       "      <td>Diesel</td>\n",
       "      <td>Automatic</td>\n",
       "      <td>Second</td>\n",
       "      <td>15.20</td>\n",
       "      <td>1968.0</td>\n",
       "      <td>140.80</td>\n",
       "      <td>5.0</td>\n",
       "      <td>17.74</td>\n",
       "    </tr>\n",
       "  </tbody>\n",
       "</table>\n",
       "</div>"
      ],
      "text/plain": [
       "   Year  Kilometers_Driven Fuel_Type Transmission Owner_Type  Mileage  Engine  \\\n",
       "0  2010              72000       CNG       Manual      First    26.60   998.0   \n",
       "1  2015              41000    Diesel       Manual      First    19.67  1582.0   \n",
       "2  2011              46000    Petrol       Manual      First    18.20  1199.0   \n",
       "3  2012              87000    Diesel       Manual      First    20.77  1248.0   \n",
       "4  2013              40670    Diesel    Automatic     Second    15.20  1968.0   \n",
       "\n",
       "    Power  Seats  Price  \n",
       "0   58.16    5.0   1.75  \n",
       "1  126.20    5.0  12.50  \n",
       "2   88.70    5.0   4.50  \n",
       "3   88.76    7.0   6.00  \n",
       "4  140.80    5.0  17.74  "
      ]
     },
     "execution_count": 11,
     "metadata": {},
     "output_type": "execute_result"
    }
   ],
   "source": [
    "df.head()"
   ]
  },
  {
   "cell_type": "code",
   "execution_count": 12,
   "id": "69834014",
   "metadata": {},
   "outputs": [
    {
     "data": {
      "text/plain": [
       "Year                  0\n",
       "Kilometers_Driven     0\n",
       "Fuel_Type             0\n",
       "Transmission          0\n",
       "Owner_Type            0\n",
       "Mileage               2\n",
       "Engine               36\n",
       "Power                36\n",
       "Seats                38\n",
       "Price                 0\n",
       "dtype: int64"
      ]
     },
     "execution_count": 12,
     "metadata": {},
     "output_type": "execute_result"
    }
   ],
   "source": [
    "df.isna().sum()"
   ]
  },
  {
   "cell_type": "code",
   "execution_count": 13,
   "id": "0e58cd6d",
   "metadata": {},
   "outputs": [],
   "source": [
    "df['Mileage'] = df['Mileage'].fillna(df['Mileage'].median())\n",
    "df['Engine'] = df['Engine'].fillna(df['Engine'].median())\n",
    "df['Power'] = df['Power'].fillna(df['Power'].median())\n",
    "df['Seats'] = df['Seats'].fillna(df['Seats'].median())"
   ]
  },
  {
   "cell_type": "code",
   "execution_count": 14,
   "id": "332ec89a",
   "metadata": {},
   "outputs": [
    {
     "data": {
      "text/plain": [
       "Year                 0\n",
       "Kilometers_Driven    0\n",
       "Fuel_Type            0\n",
       "Transmission         0\n",
       "Owner_Type           0\n",
       "Mileage              0\n",
       "Engine               0\n",
       "Power                0\n",
       "Seats                0\n",
       "Price                0\n",
       "dtype: int64"
      ]
     },
     "execution_count": 14,
     "metadata": {},
     "output_type": "execute_result"
    }
   ],
   "source": [
    "df.isna().sum()"
   ]
  },
  {
   "cell_type": "code",
   "execution_count": 15,
   "id": "095bf019",
   "metadata": {},
   "outputs": [
    {
     "name": "stdout",
     "output_type": "stream",
     "text": [
      "Fuel_Type: ['CNG' 'Diesel' 'Petrol' 'LPG' 'Electric']\n",
      "\n",
      "Transmission: ['Manual' 'Automatic']\n",
      "\n",
      "Owner_Type: ['First' 'Second' 'Fourth & Above' 'Third']\n",
      "\n"
     ]
    }
   ],
   "source": [
    "for col in df.select_dtypes(include=['object']).columns:\n",
    "    print(f\"{col}: {df[col].unique()}\\n\")"
   ]
  },
  {
   "cell_type": "code",
   "execution_count": 16,
   "id": "64fd4166",
   "metadata": {},
   "outputs": [
    {
     "name": "stdout",
     "output_type": "stream",
     "text": [
      "Fuel_Type: [0 1 4 3 2]\n",
      "Transmission: [1 0]\n",
      "Owner_Type: [0 2 1 3]\n"
     ]
    }
   ],
   "source": [
    "from sklearn import preprocessing\n",
    "for col in df.select_dtypes(include=['object']).columns:\n",
    "\n",
    "    label_encoder = preprocessing.LabelEncoder()\n",
    "    label_encoder.fit(df[col].unique())\n",
    "    df[col] = label_encoder.transform(df[col])\n",
    "    print(f\"{col}: {df[col].unique()}\")"
   ]
  },
  {
   "cell_type": "code",
   "execution_count": 17,
   "id": "95729bd0",
   "metadata": {},
   "outputs": [
    {
     "name": "stdout",
     "output_type": "stream",
     "text": [
      "<class 'pandas.core.frame.DataFrame'>\n",
      "Int64Index: 5912 entries, 0 to 6018\n",
      "Data columns (total 10 columns):\n",
      " #   Column             Non-Null Count  Dtype  \n",
      "---  ------             --------------  -----  \n",
      " 0   Year               5912 non-null   int64  \n",
      " 1   Kilometers_Driven  5912 non-null   int64  \n",
      " 2   Fuel_Type          5912 non-null   int32  \n",
      " 3   Transmission       5912 non-null   int32  \n",
      " 4   Owner_Type         5912 non-null   int32  \n",
      " 5   Mileage            5912 non-null   float64\n",
      " 6   Engine             5912 non-null   float64\n",
      " 7   Power              5912 non-null   float64\n",
      " 8   Seats              5912 non-null   float64\n",
      " 9   Price              5912 non-null   float64\n",
      "dtypes: float64(5), int32(3), int64(2)\n",
      "memory usage: 438.8 KB\n"
     ]
    }
   ],
   "source": [
    "df.info()"
   ]
  },
  {
   "cell_type": "code",
   "execution_count": 18,
   "id": "9d4235ea",
   "metadata": {},
   "outputs": [
    {
     "data": {
      "text/html": [
       "<div>\n",
       "<style scoped>\n",
       "    .dataframe tbody tr th:only-of-type {\n",
       "        vertical-align: middle;\n",
       "    }\n",
       "\n",
       "    .dataframe tbody tr th {\n",
       "        vertical-align: top;\n",
       "    }\n",
       "\n",
       "    .dataframe thead th {\n",
       "        text-align: right;\n",
       "    }\n",
       "</style>\n",
       "<table border=\"1\" class=\"dataframe\">\n",
       "  <thead>\n",
       "    <tr style=\"text-align: right;\">\n",
       "      <th></th>\n",
       "      <th>Year</th>\n",
       "      <th>Kilometers_Driven</th>\n",
       "      <th>Fuel_Type</th>\n",
       "      <th>Transmission</th>\n",
       "      <th>Owner_Type</th>\n",
       "      <th>Mileage</th>\n",
       "      <th>Engine</th>\n",
       "      <th>Power</th>\n",
       "      <th>Seats</th>\n",
       "      <th>Price</th>\n",
       "    </tr>\n",
       "  </thead>\n",
       "  <tbody>\n",
       "    <tr>\n",
       "      <th>0</th>\n",
       "      <td>2010</td>\n",
       "      <td>72000</td>\n",
       "      <td>0</td>\n",
       "      <td>1</td>\n",
       "      <td>0</td>\n",
       "      <td>26.60</td>\n",
       "      <td>998.0</td>\n",
       "      <td>58.16</td>\n",
       "      <td>5.0</td>\n",
       "      <td>1.75</td>\n",
       "    </tr>\n",
       "    <tr>\n",
       "      <th>1</th>\n",
       "      <td>2015</td>\n",
       "      <td>41000</td>\n",
       "      <td>1</td>\n",
       "      <td>1</td>\n",
       "      <td>0</td>\n",
       "      <td>19.67</td>\n",
       "      <td>1582.0</td>\n",
       "      <td>126.20</td>\n",
       "      <td>5.0</td>\n",
       "      <td>12.50</td>\n",
       "    </tr>\n",
       "    <tr>\n",
       "      <th>2</th>\n",
       "      <td>2011</td>\n",
       "      <td>46000</td>\n",
       "      <td>4</td>\n",
       "      <td>1</td>\n",
       "      <td>0</td>\n",
       "      <td>18.20</td>\n",
       "      <td>1199.0</td>\n",
       "      <td>88.70</td>\n",
       "      <td>5.0</td>\n",
       "      <td>4.50</td>\n",
       "    </tr>\n",
       "    <tr>\n",
       "      <th>3</th>\n",
       "      <td>2012</td>\n",
       "      <td>87000</td>\n",
       "      <td>1</td>\n",
       "      <td>1</td>\n",
       "      <td>0</td>\n",
       "      <td>20.77</td>\n",
       "      <td>1248.0</td>\n",
       "      <td>88.76</td>\n",
       "      <td>7.0</td>\n",
       "      <td>6.00</td>\n",
       "    </tr>\n",
       "    <tr>\n",
       "      <th>4</th>\n",
       "      <td>2013</td>\n",
       "      <td>40670</td>\n",
       "      <td>1</td>\n",
       "      <td>0</td>\n",
       "      <td>2</td>\n",
       "      <td>15.20</td>\n",
       "      <td>1968.0</td>\n",
       "      <td>140.80</td>\n",
       "      <td>5.0</td>\n",
       "      <td>17.74</td>\n",
       "    </tr>\n",
       "  </tbody>\n",
       "</table>\n",
       "</div>"
      ],
      "text/plain": [
       "   Year  Kilometers_Driven  Fuel_Type  Transmission  Owner_Type  Mileage  \\\n",
       "0  2010              72000          0             1           0    26.60   \n",
       "1  2015              41000          1             1           0    19.67   \n",
       "2  2011              46000          4             1           0    18.20   \n",
       "3  2012              87000          1             1           0    20.77   \n",
       "4  2013              40670          1             0           2    15.20   \n",
       "\n",
       "   Engine   Power  Seats  Price  \n",
       "0   998.0   58.16    5.0   1.75  \n",
       "1  1582.0  126.20    5.0  12.50  \n",
       "2  1199.0   88.70    5.0   4.50  \n",
       "3  1248.0   88.76    7.0   6.00  \n",
       "4  1968.0  140.80    5.0  17.74  "
      ]
     },
     "execution_count": 18,
     "metadata": {},
     "output_type": "execute_result"
    }
   ],
   "source": [
    "df.head()"
   ]
  },
  {
   "cell_type": "code",
   "execution_count": 19,
   "id": "cf7abd9c",
   "metadata": {},
   "outputs": [],
   "source": [
    "x = df.drop('Price',axis=1)\n",
    "y = df[['Price']]"
   ]
  },
  {
   "cell_type": "code",
   "execution_count": 20,
   "id": "9a872e15",
   "metadata": {},
   "outputs": [
    {
     "data": {
      "text/plain": [
       "((5912, 9), (5912, 1))"
      ]
     },
     "execution_count": 20,
     "metadata": {},
     "output_type": "execute_result"
    }
   ],
   "source": [
    "x.shape , y.shape"
   ]
  },
  {
   "cell_type": "code",
   "execution_count": 21,
   "id": "b0cf49ec",
   "metadata": {},
   "outputs": [],
   "source": [
    "x_train_full, x_test, y_train_full, y_test = train_test_split(x,y, random_state=42)\n",
    "x_train, x_valid, y_train, y_valid = train_test_split(x_train_full,y_train_full, random_state=42)"
   ]
  },
  {
   "cell_type": "code",
   "execution_count": 22,
   "id": "185dc5f9",
   "metadata": {},
   "outputs": [
    {
     "name": "stdout",
     "output_type": "stream",
     "text": [
      "(4434, 9)\n",
      "(1478, 9)\n",
      "(3325, 9)\n",
      "(1109, 9)\n"
     ]
    }
   ],
   "source": [
    "print(x_train_full.shape)\n",
    "print(x_test.shape)\n",
    "print(x_train.shape)\n",
    "print(x_valid.shape)"
   ]
  },
  {
   "cell_type": "code",
   "execution_count": 23,
   "id": "7cd1654b",
   "metadata": {},
   "outputs": [],
   "source": [
    "scl = StandardScaler()\n",
    "x_train = scl.fit_transform(x_train)\n",
    "x_valid = scl.transform(x_valid)\n",
    "x_test = scl.transform(x_test)"
   ]
  },
  {
   "cell_type": "code",
   "execution_count": 24,
   "id": "c11ff223",
   "metadata": {},
   "outputs": [],
   "source": [
    "Layers = [\n",
    "    tf.keras.layers.Dense(10,activation='relu', input_shape=x_train.shape[1:],kernel_regularizer=tf.keras.regularizers.l2(0.05)),\n",
    "    tf.keras.layers.Dense(5,activation='relu',kernel_regularizer=tf.keras.regularizers.l2(0.05)),\n",
    "    tf.keras.layers.Dense(1)\n",
    "\n",
    "]"
   ]
  },
  {
   "cell_type": "code",
   "execution_count": 25,
   "id": "df6e2fd6",
   "metadata": {},
   "outputs": [],
   "source": [
    "model= tf.keras.models.Sequential(Layers)"
   ]
  },
  {
   "cell_type": "code",
   "execution_count": 26,
   "id": "e7265d68",
   "metadata": {},
   "outputs": [
    {
     "name": "stdout",
     "output_type": "stream",
     "text": [
      "Model: \"sequential\"\n",
      "_________________________________________________________________\n",
      " Layer (type)                Output Shape              Param #   \n",
      "=================================================================\n",
      " dense (Dense)               (None, 10)                100       \n",
      "                                                                 \n",
      " dense_1 (Dense)             (None, 5)                 55        \n",
      "                                                                 \n",
      " dense_2 (Dense)             (None, 1)                 6         \n",
      "                                                                 \n",
      "=================================================================\n",
      "Total params: 161\n",
      "Trainable params: 161\n",
      "Non-trainable params: 0\n",
      "_________________________________________________________________\n"
     ]
    }
   ],
   "source": [
    "model.summary()"
   ]
  },
  {
   "cell_type": "code",
   "execution_count": 27,
   "id": "1af8437b",
   "metadata": {},
   "outputs": [],
   "source": [
    "model.compile(loss='mse',optimizer=tf.keras.optimizers.Adam(0.001))"
   ]
  },
  {
   "cell_type": "code",
   "execution_count": 28,
   "id": "7962bd21",
   "metadata": {
    "scrolled": false
   },
   "outputs": [
    {
     "name": "stdout",
     "output_type": "stream",
     "text": [
      "Epoch 1/150\n",
      "104/104 [==============================] - 3s 10ms/step - loss: 233.8206 - val_loss: 230.5754\n",
      "Epoch 2/150\n",
      "104/104 [==============================] - 1s 7ms/step - loss: 222.4890 - val_loss: 216.7444\n",
      "Epoch 3/150\n",
      "104/104 [==============================] - 1s 6ms/step - loss: 195.9304 - val_loss: 167.7221\n",
      "Epoch 4/150\n",
      "104/104 [==============================] - 1s 6ms/step - loss: 121.7688 - val_loss: 78.9600\n",
      "Epoch 5/150\n",
      "104/104 [==============================] - 1s 6ms/step - loss: 52.8151 - val_loss: 40.5347\n",
      "Epoch 6/150\n",
      "104/104 [==============================] - 1s 6ms/step - loss: 35.9101 - val_loss: 35.5915\n",
      "Epoch 7/150\n",
      "104/104 [==============================] - 1s 6ms/step - loss: 32.6093 - val_loss: 33.4955\n",
      "Epoch 8/150\n",
      "104/104 [==============================] - 1s 7ms/step - loss: 30.6723 - val_loss: 31.9996\n",
      "Epoch 9/150\n",
      "104/104 [==============================] - 1s 6ms/step - loss: 29.4773 - val_loss: 30.9659\n",
      "Epoch 10/150\n",
      "104/104 [==============================] - 1s 6ms/step - loss: 28.4987 - val_loss: 30.3315\n",
      "Epoch 11/150\n",
      "104/104 [==============================] - 1s 6ms/step - loss: 27.9261 - val_loss: 29.7198\n",
      "Epoch 12/150\n",
      "104/104 [==============================] - 1s 6ms/step - loss: 27.2548 - val_loss: 29.2727\n",
      "Epoch 13/150\n",
      "104/104 [==============================] - 1s 6ms/step - loss: 26.7941 - val_loss: 28.8625\n",
      "Epoch 14/150\n",
      "104/104 [==============================] - 1s 6ms/step - loss: 26.4068 - val_loss: 28.5500\n",
      "Epoch 15/150\n",
      "104/104 [==============================] - 1s 6ms/step - loss: 26.0614 - val_loss: 28.2250\n",
      "Epoch 16/150\n",
      "104/104 [==============================] - 1s 6ms/step - loss: 25.8182 - val_loss: 28.0131\n",
      "Epoch 17/150\n",
      "104/104 [==============================] - 1s 6ms/step - loss: 25.5122 - val_loss: 27.7815\n",
      "Epoch 18/150\n",
      "104/104 [==============================] - 1s 6ms/step - loss: 25.3291 - val_loss: 27.6091\n",
      "Epoch 19/150\n",
      "104/104 [==============================] - 1s 6ms/step - loss: 25.0873 - val_loss: 27.4469\n",
      "Epoch 20/150\n",
      "104/104 [==============================] - 1s 6ms/step - loss: 24.9834 - val_loss: 27.3472\n",
      "Epoch 21/150\n",
      "104/104 [==============================] - 1s 6ms/step - loss: 24.8305 - val_loss: 27.1947\n",
      "Epoch 22/150\n",
      "104/104 [==============================] - 1s 6ms/step - loss: 24.5895 - val_loss: 27.1224\n",
      "Epoch 23/150\n",
      "104/104 [==============================] - 1s 7ms/step - loss: 24.4638 - val_loss: 26.8595\n",
      "Epoch 24/150\n",
      "104/104 [==============================] - 1s 6ms/step - loss: 24.3097 - val_loss: 26.7367\n",
      "Epoch 25/150\n",
      "104/104 [==============================] - 1s 8ms/step - loss: 24.1208 - val_loss: 26.7876\n",
      "Epoch 26/150\n",
      "104/104 [==============================] - 1s 6ms/step - loss: 24.0422 - val_loss: 26.5149\n",
      "Epoch 27/150\n",
      "104/104 [==============================] - 1s 6ms/step - loss: 23.9173 - val_loss: 26.4726\n",
      "Epoch 28/150\n",
      "104/104 [==============================] - 1s 6ms/step - loss: 23.9074 - val_loss: 26.3233\n",
      "Epoch 29/150\n",
      "104/104 [==============================] - 1s 8ms/step - loss: 23.7596 - val_loss: 26.3695\n",
      "Epoch 30/150\n",
      "104/104 [==============================] - 1s 6ms/step - loss: 23.6629 - val_loss: 26.2177\n",
      "Epoch 31/150\n",
      "104/104 [==============================] - 1s 7ms/step - loss: 23.4971 - val_loss: 26.1566\n",
      "Epoch 32/150\n",
      "104/104 [==============================] - 1s 6ms/step - loss: 23.4467 - val_loss: 25.9995\n",
      "Epoch 33/150\n",
      "104/104 [==============================] - 1s 6ms/step - loss: 23.3587 - val_loss: 25.9954\n",
      "Epoch 34/150\n",
      "104/104 [==============================] - 1s 6ms/step - loss: 23.2589 - val_loss: 26.0785\n",
      "Epoch 35/150\n",
      "104/104 [==============================] - 1s 9ms/step - loss: 23.2882 - val_loss: 25.8146\n",
      "Epoch 36/150\n",
      "104/104 [==============================] - 1s 10ms/step - loss: 23.0557 - val_loss: 25.8479\n",
      "Epoch 37/150\n",
      "104/104 [==============================] - 1s 7ms/step - loss: 23.0331 - val_loss: 25.6900\n",
      "Epoch 38/150\n",
      "104/104 [==============================] - 1s 7ms/step - loss: 23.0118 - val_loss: 25.6075\n",
      "Epoch 39/150\n",
      "104/104 [==============================] - 1s 6ms/step - loss: 22.8611 - val_loss: 25.5785\n",
      "Epoch 40/150\n",
      "104/104 [==============================] - 1s 6ms/step - loss: 22.7674 - val_loss: 25.7528\n",
      "Epoch 41/150\n",
      "104/104 [==============================] - 1s 7ms/step - loss: 22.7868 - val_loss: 25.4690\n",
      "Epoch 42/150\n",
      "104/104 [==============================] - 1s 6ms/step - loss: 22.6887 - val_loss: 25.5282\n",
      "Epoch 43/150\n",
      "104/104 [==============================] - 1s 5ms/step - loss: 22.6893 - val_loss: 25.4063\n",
      "Epoch 44/150\n",
      "104/104 [==============================] - 1s 6ms/step - loss: 22.5148 - val_loss: 25.4099\n",
      "Epoch 45/150\n",
      "104/104 [==============================] - 1s 5ms/step - loss: 22.5597 - val_loss: 25.3320\n",
      "Epoch 46/150\n",
      "104/104 [==============================] - 1s 5ms/step - loss: 22.4762 - val_loss: 25.2672\n",
      "Epoch 47/150\n",
      "104/104 [==============================] - 1s 5ms/step - loss: 22.4671 - val_loss: 25.4500\n",
      "Epoch 48/150\n",
      "104/104 [==============================] - 1s 5ms/step - loss: 22.3585 - val_loss: 25.2084\n",
      "Epoch 49/150\n",
      "104/104 [==============================] - 1s 7ms/step - loss: 22.3565 - val_loss: 25.2505\n",
      "Epoch 50/150\n",
      "104/104 [==============================] - 1s 6ms/step - loss: 22.3424 - val_loss: 25.2987\n",
      "Epoch 51/150\n",
      "104/104 [==============================] - 1s 5ms/step - loss: 22.2615 - val_loss: 25.1432\n",
      "Epoch 52/150\n",
      "104/104 [==============================] - 1s 6ms/step - loss: 22.3207 - val_loss: 25.0980\n",
      "Epoch 53/150\n",
      "104/104 [==============================] - 1s 7ms/step - loss: 22.1429 - val_loss: 25.0929\n",
      "Epoch 54/150\n",
      "104/104 [==============================] - 1s 7ms/step - loss: 22.1512 - val_loss: 25.1128\n",
      "Epoch 55/150\n",
      "104/104 [==============================] - 1s 6ms/step - loss: 22.0860 - val_loss: 25.0249\n",
      "Epoch 56/150\n",
      "104/104 [==============================] - 1s 5ms/step - loss: 21.9909 - val_loss: 24.9688\n",
      "Epoch 57/150\n",
      "104/104 [==============================] - 1s 5ms/step - loss: 21.9996 - val_loss: 25.0289\n",
      "Epoch 58/150\n",
      "104/104 [==============================] - 1s 6ms/step - loss: 21.8415 - val_loss: 25.0499\n",
      "Epoch 59/150\n",
      "104/104 [==============================] - 1s 5ms/step - loss: 21.8971 - val_loss: 24.8595\n",
      "Epoch 60/150\n",
      "104/104 [==============================] - 1s 5ms/step - loss: 21.7308 - val_loss: 25.0455\n",
      "Epoch 61/150\n",
      "104/104 [==============================] - 1s 5ms/step - loss: 21.8223 - val_loss: 24.8573\n",
      "Epoch 62/150\n",
      "104/104 [==============================] - 1s 6ms/step - loss: 21.6966 - val_loss: 24.8875\n",
      "Epoch 63/150\n",
      "104/104 [==============================] - 1s 6ms/step - loss: 21.6312 - val_loss: 24.7817\n",
      "Epoch 64/150\n",
      "104/104 [==============================] - 1s 5ms/step - loss: 21.5536 - val_loss: 24.7399\n",
      "Epoch 65/150\n",
      "104/104 [==============================] - 1s 7ms/step - loss: 21.6161 - val_loss: 24.7562\n",
      "Epoch 66/150\n",
      "104/104 [==============================] - 1s 5ms/step - loss: 21.4362 - val_loss: 24.7512\n",
      "Epoch 67/150\n",
      "104/104 [==============================] - 1s 6ms/step - loss: 21.4354 - val_loss: 24.7262\n",
      "Epoch 68/150\n",
      "104/104 [==============================] - 1s 5ms/step - loss: 21.4090 - val_loss: 24.6304\n",
      "Epoch 69/150\n",
      "104/104 [==============================] - 1s 6ms/step - loss: 21.3824 - val_loss: 24.5442\n",
      "Epoch 70/150\n",
      "104/104 [==============================] - 1s 5ms/step - loss: 21.2490 - val_loss: 24.5684\n",
      "Epoch 71/150\n",
      "104/104 [==============================] - 1s 6ms/step - loss: 21.1797 - val_loss: 24.5207\n",
      "Epoch 72/150\n",
      "104/104 [==============================] - 1s 6ms/step - loss: 21.1923 - val_loss: 24.5289\n",
      "Epoch 73/150\n",
      "104/104 [==============================] - 1s 8ms/step - loss: 21.2585 - val_loss: 24.4547\n",
      "Epoch 74/150\n",
      "104/104 [==============================] - 1s 7ms/step - loss: 21.1514 - val_loss: 24.4254\n",
      "Epoch 75/150\n",
      "104/104 [==============================] - 1s 6ms/step - loss: 21.0554 - val_loss: 24.3952\n",
      "Epoch 76/150\n",
      "104/104 [==============================] - 1s 7ms/step - loss: 20.9232 - val_loss: 24.6250\n",
      "Epoch 77/150\n",
      "104/104 [==============================] - 1s 7ms/step - loss: 21.0906 - val_loss: 24.4313\n",
      "Epoch 78/150\n",
      "104/104 [==============================] - 1s 7ms/step - loss: 20.9504 - val_loss: 24.5042\n",
      "Epoch 79/150\n",
      "104/104 [==============================] - 1s 7ms/step - loss: 20.9368 - val_loss: 24.3681\n"
     ]
    },
    {
     "name": "stdout",
     "output_type": "stream",
     "text": [
      "Epoch 80/150\n",
      "104/104 [==============================] - 1s 7ms/step - loss: 20.9299 - val_loss: 24.4518\n",
      "Epoch 81/150\n",
      "104/104 [==============================] - 1s 7ms/step - loss: 20.9283 - val_loss: 24.3340\n",
      "Epoch 82/150\n",
      "104/104 [==============================] - 1s 6ms/step - loss: 20.9249 - val_loss: 24.3220\n",
      "Epoch 83/150\n",
      "104/104 [==============================] - 1s 7ms/step - loss: 20.8188 - val_loss: 24.2956\n",
      "Epoch 84/150\n",
      "104/104 [==============================] - 1s 6ms/step - loss: 20.7104 - val_loss: 24.2814\n",
      "Epoch 85/150\n",
      "104/104 [==============================] - 1s 7ms/step - loss: 20.7669 - val_loss: 24.2848\n",
      "Epoch 86/150\n",
      "104/104 [==============================] - 1s 7ms/step - loss: 20.8103 - val_loss: 24.2425\n",
      "Epoch 87/150\n",
      "104/104 [==============================] - 1s 7ms/step - loss: 20.6767 - val_loss: 24.2604\n",
      "Epoch 88/150\n",
      "104/104 [==============================] - 1s 6ms/step - loss: 20.6252 - val_loss: 24.2989\n",
      "Epoch 89/150\n",
      "104/104 [==============================] - 1s 6ms/step - loss: 20.6324 - val_loss: 24.1813\n",
      "Epoch 90/150\n",
      "104/104 [==============================] - 1s 6ms/step - loss: 20.6274 - val_loss: 24.1447\n",
      "Epoch 91/150\n",
      "104/104 [==============================] - 1s 7ms/step - loss: 20.5617 - val_loss: 24.2085\n",
      "Epoch 92/150\n",
      "104/104 [==============================] - 1s 7ms/step - loss: 20.6008 - val_loss: 24.1774\n",
      "Epoch 93/150\n",
      "104/104 [==============================] - 1s 7ms/step - loss: 20.6177 - val_loss: 24.1168\n",
      "Epoch 94/150\n",
      "104/104 [==============================] - 1s 6ms/step - loss: 20.6761 - val_loss: 24.1699\n",
      "Epoch 95/150\n",
      "104/104 [==============================] - 1s 6ms/step - loss: 20.4919 - val_loss: 24.3250\n",
      "Epoch 96/150\n",
      "104/104 [==============================] - 1s 6ms/step - loss: 20.3466 - val_loss: 24.2506\n",
      "Epoch 97/150\n",
      "104/104 [==============================] - 1s 7ms/step - loss: 20.5782 - val_loss: 24.0609\n",
      "Epoch 98/150\n",
      "104/104 [==============================] - 1s 7ms/step - loss: 20.4375 - val_loss: 24.0662\n",
      "Epoch 99/150\n",
      "104/104 [==============================] - 1s 5ms/step - loss: 20.4277 - val_loss: 23.9856\n",
      "Epoch 100/150\n",
      "104/104 [==============================] - 1s 6ms/step - loss: 20.4427 - val_loss: 24.1457\n",
      "Epoch 101/150\n",
      "104/104 [==============================] - 1s 7ms/step - loss: 20.4153 - val_loss: 24.4970\n",
      "Epoch 102/150\n",
      "104/104 [==============================] - 1s 7ms/step - loss: 20.4008 - val_loss: 24.0304\n",
      "Epoch 103/150\n",
      "104/104 [==============================] - 1s 6ms/step - loss: 20.2895 - val_loss: 24.1303\n",
      "Epoch 104/150\n",
      "104/104 [==============================] - 1s 6ms/step - loss: 20.4773 - val_loss: 23.9686\n",
      "Epoch 105/150\n",
      "104/104 [==============================] - 1s 7ms/step - loss: 20.3275 - val_loss: 23.9147\n",
      "Epoch 106/150\n",
      "104/104 [==============================] - 1s 6ms/step - loss: 20.4802 - val_loss: 23.9256\n",
      "Epoch 107/150\n",
      "104/104 [==============================] - 1s 6ms/step - loss: 20.3547 - val_loss: 23.9246\n",
      "Epoch 108/150\n",
      "104/104 [==============================] - 1s 5ms/step - loss: 20.3198 - val_loss: 23.9026\n",
      "Epoch 109/150\n",
      "104/104 [==============================] - 1s 6ms/step - loss: 20.3157 - val_loss: 23.9021\n",
      "Epoch 110/150\n",
      "104/104 [==============================] - 1s 6ms/step - loss: 20.2858 - val_loss: 23.9655\n",
      "Epoch 111/150\n",
      "104/104 [==============================] - 1s 6ms/step - loss: 20.3380 - val_loss: 23.7937\n",
      "Epoch 112/150\n",
      "104/104 [==============================] - 1s 7ms/step - loss: 20.2584 - val_loss: 23.8539\n",
      "Epoch 113/150\n",
      "104/104 [==============================] - 1s 7ms/step - loss: 20.1702 - val_loss: 23.7953\n",
      "Epoch 114/150\n",
      "104/104 [==============================] - 1s 5ms/step - loss: 20.1529 - val_loss: 23.7523\n",
      "Epoch 115/150\n",
      "104/104 [==============================] - 1s 6ms/step - loss: 20.0983 - val_loss: 23.8810\n",
      "Epoch 116/150\n",
      "104/104 [==============================] - 1s 7ms/step - loss: 20.1861 - val_loss: 23.8474\n",
      "Epoch 117/150\n",
      "104/104 [==============================] - 1s 7ms/step - loss: 20.2347 - val_loss: 23.7067\n",
      "Epoch 118/150\n",
      "104/104 [==============================] - 1s 6ms/step - loss: 20.1151 - val_loss: 23.6762\n",
      "Epoch 119/150\n",
      "104/104 [==============================] - 1s 6ms/step - loss: 20.0170 - val_loss: 23.9309\n",
      "Epoch 120/150\n",
      "104/104 [==============================] - 1s 7ms/step - loss: 20.1103 - val_loss: 23.7466\n",
      "Epoch 121/150\n",
      "104/104 [==============================] - 1s 6ms/step - loss: 20.0932 - val_loss: 23.9174\n",
      "Epoch 122/150\n",
      "104/104 [==============================] - 1s 12ms/step - loss: 20.1186 - val_loss: 23.7566\n",
      "Epoch 123/150\n",
      "104/104 [==============================] - 1s 6ms/step - loss: 20.0203 - val_loss: 23.6190\n",
      "Epoch 124/150\n",
      "104/104 [==============================] - 1s 6ms/step - loss: 20.0191 - val_loss: 23.6969\n",
      "Epoch 125/150\n",
      "104/104 [==============================] - 1s 5ms/step - loss: 20.0962 - val_loss: 23.5975\n",
      "Epoch 126/150\n",
      "104/104 [==============================] - 1s 5ms/step - loss: 20.0356 - val_loss: 23.5611\n",
      "Epoch 127/150\n",
      "104/104 [==============================] - 1s 5ms/step - loss: 20.0346 - val_loss: 23.5204\n",
      "Epoch 128/150\n",
      "104/104 [==============================] - 1s 5ms/step - loss: 19.9555 - val_loss: 23.7310\n",
      "Epoch 129/150\n",
      "104/104 [==============================] - 1s 6ms/step - loss: 19.9638 - val_loss: 23.5524\n",
      "Epoch 130/150\n",
      "104/104 [==============================] - 1s 5ms/step - loss: 19.9707 - val_loss: 23.4709\n",
      "Epoch 131/150\n",
      "104/104 [==============================] - 1s 6ms/step - loss: 19.9478 - val_loss: 23.5684\n",
      "Epoch 132/150\n",
      "104/104 [==============================] - 1s 6ms/step - loss: 19.9904 - val_loss: 23.5917\n",
      "Epoch 133/150\n",
      "104/104 [==============================] - 1s 5ms/step - loss: 19.8742 - val_loss: 23.5258\n",
      "Epoch 134/150\n",
      "104/104 [==============================] - 1s 5ms/step - loss: 19.9305 - val_loss: 23.4013\n",
      "Epoch 135/150\n",
      "104/104 [==============================] - 0s 5ms/step - loss: 19.8222 - val_loss: 23.4173\n",
      "Epoch 136/150\n",
      "104/104 [==============================] - 1s 5ms/step - loss: 19.8421 - val_loss: 23.3864\n",
      "Epoch 137/150\n",
      "104/104 [==============================] - 1s 5ms/step - loss: 19.9348 - val_loss: 23.3953\n",
      "Epoch 138/150\n",
      "104/104 [==============================] - 1s 6ms/step - loss: 19.8322 - val_loss: 23.3536\n",
      "Epoch 139/150\n",
      "104/104 [==============================] - 1s 5ms/step - loss: 19.7217 - val_loss: 23.3681\n",
      "Epoch 140/150\n",
      "104/104 [==============================] - 1s 6ms/step - loss: 19.7816 - val_loss: 23.3947\n",
      "Epoch 141/150\n",
      "104/104 [==============================] - 1s 6ms/step - loss: 19.8265 - val_loss: 23.4775\n",
      "Epoch 142/150\n",
      "104/104 [==============================] - 1s 6ms/step - loss: 19.7479 - val_loss: 23.3561\n",
      "Epoch 143/150\n",
      "104/104 [==============================] - 1s 5ms/step - loss: 19.7220 - val_loss: 23.4630\n",
      "Epoch 144/150\n",
      "104/104 [==============================] - 1s 6ms/step - loss: 19.8323 - val_loss: 23.7298\n",
      "Epoch 145/150\n",
      "104/104 [==============================] - 1s 7ms/step - loss: 19.9277 - val_loss: 23.2399\n",
      "Epoch 146/150\n",
      "104/104 [==============================] - 1s 6ms/step - loss: 19.6645 - val_loss: 23.2768\n",
      "Epoch 147/150\n",
      "104/104 [==============================] - 1s 6ms/step - loss: 19.6643 - val_loss: 23.3012\n",
      "Epoch 148/150\n",
      "104/104 [==============================] - 1s 6ms/step - loss: 19.6133 - val_loss: 23.2932\n",
      "Epoch 149/150\n",
      "104/104 [==============================] - 1s 6ms/step - loss: 19.6154 - val_loss: 23.2551\n",
      "Epoch 150/150\n",
      "104/104 [==============================] - 1s 6ms/step - loss: 19.6283 - val_loss: 23.3160\n"
     ]
    }
   ],
   "source": [
    "history = model.fit(x_train,y_train,epochs=150,validation_data=(x_valid,y_valid))"
   ]
  },
  {
   "cell_type": "code",
   "execution_count": 29,
   "id": "ba2e3ee7",
   "metadata": {},
   "outputs": [
    {
     "name": "stdout",
     "output_type": "stream",
     "text": [
      "47/47 [==============================] - 0s 5ms/step - loss: 15.4544\n"
     ]
    },
    {
     "data": {
      "text/plain": [
       "15.454351425170898"
      ]
     },
     "execution_count": 29,
     "metadata": {},
     "output_type": "execute_result"
    }
   ],
   "source": [
    "model.evaluate(x_test,y_test)"
   ]
  },
  {
   "cell_type": "code",
   "execution_count": 30,
   "id": "3f046a70",
   "metadata": {},
   "outputs": [
    {
     "name": "stdout",
     "output_type": "stream",
     "text": [
      "104/104 [==============================] - 1s 4ms/step\n"
     ]
    }
   ],
   "source": [
    "ypred = model.predict(x_train)"
   ]
  },
  {
   "cell_type": "code",
   "execution_count": 31,
   "id": "edc0f9b9",
   "metadata": {},
   "outputs": [
    {
     "data": {
      "text/plain": [
       "(1478, 9)"
      ]
     },
     "execution_count": 31,
     "metadata": {},
     "output_type": "execute_result"
    }
   ],
   "source": [
    "x_test.shape"
   ]
  },
  {
   "cell_type": "code",
   "execution_count": 32,
   "id": "719b9446",
   "metadata": {},
   "outputs": [],
   "source": [
    "new = x_test[0]"
   ]
  },
  {
   "cell_type": "code",
   "execution_count": 33,
   "id": "e47b04ac",
   "metadata": {},
   "outputs": [
    {
     "data": {
      "text/plain": [
       "array([[-0.15485486, -0.15943014, -0.91968116, -1.56155996,  2.03896892,\n",
       "        -0.09226515,  2.27891102,  3.51442323, -1.59025775]])"
      ]
     },
     "execution_count": 33,
     "metadata": {},
     "output_type": "execute_result"
    }
   ],
   "source": [
    "new.reshape((1,9))"
   ]
  },
  {
   "cell_type": "code",
   "execution_count": 34,
   "id": "5cf50dd5",
   "metadata": {},
   "outputs": [
    {
     "name": "stdout",
     "output_type": "stream",
     "text": [
      "1/1 [==============================] - 0s 44ms/step\n"
     ]
    },
    {
     "data": {
      "text/plain": [
       "array([[43.92869]], dtype=float32)"
      ]
     },
     "execution_count": 34,
     "metadata": {},
     "output_type": "execute_result"
    }
   ],
   "source": [
    "model.predict(new.reshape((1,9)))"
   ]
  }
 ],
 "metadata": {
  "kernelspec": {
   "display_name": "Python 3 (ipykernel)",
   "language": "python",
   "name": "python3"
  },
  "language_info": {
   "codemirror_mode": {
    "name": "ipython",
    "version": 3
   },
   "file_extension": ".py",
   "mimetype": "text/x-python",
   "name": "python",
   "nbconvert_exporter": "python",
   "pygments_lexer": "ipython3",
   "version": "3.10.9"
  }
 },
 "nbformat": 4,
 "nbformat_minor": 5
}
